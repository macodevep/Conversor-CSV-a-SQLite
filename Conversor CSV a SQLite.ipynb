{
 "cells": [
  {
   "cell_type": "code",
   "execution_count": 40,
   "id": "92dd648e-6864-46bf-a89f-08e7dab45608",
   "metadata": {},
   "outputs": [
    {
     "name": "stdout",
     "output_type": "stream",
     "text": [
      "Archivo encontrado\n"
     ]
    }
   ],
   "source": [
    "import pandas as pd\n",
    "import sqlite3\n",
    "\n",
    "try:\n",
    "    df = pd.read_csv(\"nike_sales_2024.csv\")\n",
    "    print(\"Archivo encontrado\")\n",
    "except  FileNotFoundError:\n",
    "    print(\"Error: El archivo nike_sales_2024.csv no fue encontrado.\")\n",
    "except pd.errors.ParserError:\n",
    "    print(\"Error: El archivo nike_sales_2024.csv tiene un formato incorrecto.\")"
   ]
  },
  {
   "cell_type": "code",
   "execution_count": 37,
   "id": "38e6c24e-0943-4b14-a70d-2c100841106b",
   "metadata": {},
   "outputs": [
    {
     "name": "stdout",
     "output_type": "stream",
     "text": [
      "<class 'pandas.core.frame.DataFrame'>\n",
      "RangeIndex: 1000 entries, 0 to 999\n",
      "Data columns (total 10 columns):\n",
      " #   Column                   Non-Null Count  Dtype \n",
      "---  ------                   --------------  ----- \n",
      " 0   Month                    1000 non-null   object\n",
      " 1   Region                   1000 non-null   object\n",
      " 2   Main_Category            1000 non-null   object\n",
      " 3   Sub_Category             1000 non-null   object\n",
      " 4   Product_Line             1000 non-null   object\n",
      " 5   Price_Tier               1000 non-null   object\n",
      " 6   Units_Sold               1000 non-null   int64 \n",
      " 7   Revenue_USD              1000 non-null   int64 \n",
      " 8   Online_Sales_Percentage  1000 non-null   int64 \n",
      " 9   Retail_Price             1000 non-null   int64 \n",
      "dtypes: int64(4), object(6)\n",
      "memory usage: 78.3+ KB\n",
      "None\n",
      "Index(['Month', 'Region', 'Main_Category', 'Sub_Category', 'Product_Line',\n",
      "       'Price_Tier', 'Units_Sold', 'Revenue_USD', 'Online_Sales_Percentage',\n",
      "       'Retail_Price'],\n",
      "      dtype='object')\n"
     ]
    }
   ],
   "source": [
    "print(df.info()) \n",
    "print(df.columns)   "
   ]
  },
  {
   "cell_type": "code",
   "execution_count": 33,
   "id": "9246d68b-99a0-4702-bd98-7288c1f15068",
   "metadata": {},
   "outputs": [
    {
     "name": "stdout",
     "output_type": "stream",
     "text": [
      "      Month         Region  Units_Sold\n",
      "0  November          India       48356\n",
      "1   January          India        9842\n",
      "2   October          India       25079\n",
      "3  December  Greater China       41404\n",
      "4       May  Greater China       33569\n"
     ]
    }
   ],
   "source": [
    "columnas_seleccionadas = ['Month', 'Region', 'Units_Sold']\n",
    "df_seleccionado = df[columnas_seleccionadas]\n",
    "print(df_seleccionado.head())\n"
   ]
  },
  {
   "cell_type": "code",
   "execution_count": 38,
   "id": "83c94bdc-d31b-46ae-bfd8-ab32b84d522f",
   "metadata": {},
   "outputs": [
    {
     "name": "stdout",
     "output_type": "stream",
     "text": [
      "Datos enviados a SQLite correctamente.\n",
      "      Month         Region  Units_Sold\n",
      "0  November          India       48356\n",
      "1   January          India        9842\n",
      "2   October          India       25079\n",
      "3  December  Greater China       41404\n",
      "4       May  Greater China       33569\n"
     ]
    }
   ],
   "source": [
    "conexion = sqlite3.connect(\"mi_base_de_datos.db\")\n",
    "df_seleccionado.to_sql('ventas_nike', conexion, if_exists='replace', index=False)\n",
    "conexion.close()\n",
    "\n",
    "print(\"Datos enviados a SQLite correctamente.\")\n",
    "\n",
    "\n",
    "conexion = sqlite3.connect(\"mi_base_de_datos.db\")\n",
    "consulta = \"SELECT * FROM ventas_nike\"\n",
    "df_leido = pd.read_sql_query(consulta, conexion)\n",
    "print(df_leido.head())\n",
    "conexion.close()"
   ]
  }
 ],
 "metadata": {
  "kernelspec": {
   "display_name": "Python 3 (ipykernel)",
   "language": "python",
   "name": "python3"
  },
  "language_info": {
   "codemirror_mode": {
    "name": "ipython",
    "version": 3
   },
   "file_extension": ".py",
   "mimetype": "text/x-python",
   "name": "python",
   "nbconvert_exporter": "python",
   "pygments_lexer": "ipython3",
   "version": "3.12.7"
  }
 },
 "nbformat": 4,
 "nbformat_minor": 5
}
